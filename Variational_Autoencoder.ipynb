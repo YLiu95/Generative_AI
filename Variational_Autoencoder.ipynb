{
  "nbformat": 4,
  "nbformat_minor": 0,
  "metadata": {
    "colab": {
      "provenance": [],
      "toc_visible": true,
      "authorship_tag": "ABX9TyOco8sh/AXbuJtsZ6wN4vVq",
      "include_colab_link": true
    },
    "kernelspec": {
      "name": "python3",
      "display_name": "Python 3"
    },
    "language_info": {
      "name": "python"
    },
    "accelerator": "GPU",
    "gpuClass": "standard"
  },
  "cells": [
    {
      "cell_type": "markdown",
      "metadata": {
        "id": "view-in-github",
        "colab_type": "text"
      },
      "source": [
        "<a href=\"https://colab.research.google.com/github/YLiu95/Generative_AI/blob/main/Variational_Autoencoder.ipynb\" target=\"_parent\"><img src=\"https://colab.research.google.com/assets/colab-badge.svg\" alt=\"Open In Colab\"/></a>"
      ]
    },
    {
      "cell_type": "markdown",
      "source": [
        "# Variational Autoencoder\n",
        "MNIST VAE: Generating Handwritten Digits with a Variational Autoencoder"
      ],
      "metadata": {
        "id": "jFGbuvlH33eh"
      }
    },
    {
      "cell_type": "markdown",
      "source": [
        "table of contents:\n",
        "\n",
        ">[Variational Autoencoder](#updateTitle=true&folderId=1XSd5UBYT2zKmcLISn-xBRYa9upYgTaXM&scrollTo=jFGbuvlH33eh)\n",
        "\n",
        ">>[device inspection](#updateTitle=true&folderId=1XSd5UBYT2zKmcLISn-xBRYa9upYgTaXM&scrollTo=hupchr4WHYH1)\n",
        "\n",
        ">>[model construction](#updateTitle=true&folderId=1XSd5UBYT2zKmcLISn-xBRYa9upYgTaXM&scrollTo=ioW7n_byHbE4)\n",
        "\n",
        ">>[training](#updateTitle=true&folderId=1XSd5UBYT2zKmcLISn-xBRYa9upYgTaXM&scrollTo=oHXAMZKlHjD_)\n",
        "\n",
        ">>[image generation](#updateTitle=true&folderId=1XSd5UBYT2zKmcLISn-xBRYa9upYgTaXM&scrollTo=S53xTzcrHmyr)\n",
        "\n",
        ">>[conclusion](#updateTitle=true&folderId=1XSd5UBYT2zKmcLISn-xBRYa9upYgTaXM&scrollTo=Wyw1IB3cINQ4)\n",
        "\n",
        ">[end](#updateTitle=true&folderId=1XSd5UBYT2zKmcLISn-xBRYa9upYgTaXM&scrollTo=219egQCT_D6R)\n",
        "\n"
      ],
      "metadata": {
        "colab_type": "toc",
        "id": "NgBKwofTIuYw"
      }
    },
    {
      "cell_type": "markdown",
      "source": [
        "## device inspection"
      ],
      "metadata": {
        "id": "hupchr4WHYH1"
      }
    },
    {
      "cell_type": "code",
      "source": [
        "import tensorflow as tf\n",
        "print(tf.__version__)\n",
        "tf.config.experimental.list_physical_devices(device_type=None)"
      ],
      "metadata": {
        "colab": {
          "base_uri": "https://localhost:8080/"
        },
        "id": "4hdo3Jy-A5IA",
        "outputId": "abad4d50-145e-4b15-b56f-df835ba37313"
      },
      "execution_count": 1,
      "outputs": [
        {
          "output_type": "stream",
          "name": "stdout",
          "text": [
            "2.12.0\n"
          ]
        },
        {
          "output_type": "execute_result",
          "data": {
            "text/plain": [
              "[PhysicalDevice(name='/physical_device:CPU:0', device_type='CPU'),\n",
              " PhysicalDevice(name='/physical_device:GPU:0', device_type='GPU')]"
            ]
          },
          "metadata": {},
          "execution_count": 1
        }
      ]
    },
    {
      "cell_type": "markdown",
      "source": [
        "## model construction"
      ],
      "metadata": {
        "id": "ioW7n_byHbE4"
      }
    },
    {
      "cell_type": "code",
      "source": [
        "from keras.layers import Input, Dense, Lambda\n",
        "from keras.models import Model\n",
        "from keras.datasets import mnist\n",
        "from keras import backend as K\n",
        "import numpy as np\n",
        "\n",
        "# Load the MNIST dataset\n",
        "(x_train, _), (x_test, _) = mnist.load_data()\n",
        "\n",
        "# Normalize and reshape the data\n",
        "x_train = x_train.astype('float32') / 255.\n",
        "x_test = x_test.astype('float32') / 255.\n",
        "x_train = x_train.reshape((len(x_train), np.prod(x_train.shape[1:])))\n",
        "x_test = x_test.reshape((len(x_test), np.prod(x_test.shape[1:])))\n",
        "\n",
        "# Define the dimensions of the input image\n",
        "input_dim = x_train.shape[1]\n",
        "\n",
        "# Define the dimensions of the latent space\n",
        "latent_dim = 2\n",
        "\n",
        "# Define the size of the intermediate layers\n",
        "hidden_dim = 256\n",
        "\n",
        "# Define the encoder architecture\n",
        "input_img = Input(shape=(input_dim,))\n",
        "h = Dense(hidden_dim, activation='relu')(input_img)\n",
        "z_mean = Dense(latent_dim)(h)\n",
        "z_log_var = Dense(latent_dim)(h)\n",
        "\n",
        "# Define the sampling function\n",
        "def sampling(args):\n",
        "    z_mean, z_log_var = args\n",
        "    epsilon = K.random_normal(shape=(K.shape(z_mean)[0], latent_dim),\n",
        "                              mean=0., stddev=1.)\n",
        "    return z_mean + K.exp(z_log_var) * epsilon\n",
        "\n",
        "# Define the latent space sampling layer\n",
        "z = Lambda(sampling)([z_mean, z_log_var])\n",
        "\n",
        "# Define the decoder architecture\n",
        "decoder_h = Dense(hidden_dim, activation='relu')\n",
        "decoder_mean = Dense(input_dim, activation='sigmoid')\n",
        "h_decoded = decoder_h(z)\n",
        "x_decoded_mean = decoder_mean(h_decoded)\n",
        "\n",
        "# Define the VAE model\n",
        "vae = Model(input_img, x_decoded_mean)\n",
        "\n",
        "# Define the VAE loss function\n",
        "reconstruction_loss = K.sum(K.binary_crossentropy(input_img, x_decoded_mean), axis=-1)\n",
        "kl_loss = -0.5 * K.sum(1 + z_log_var - K.square(z_mean) - K.exp(z_log_var), axis=-1)\n",
        "vae_loss = K.mean(reconstruction_loss + kl_loss)\n",
        "vae.add_loss(vae_loss)\n",
        "\n",
        "# Compile the model\n",
        "vae.compile(optimizer='adam')"
      ],
      "metadata": {
        "id": "V0zrrEbu_G9_"
      },
      "execution_count": 2,
      "outputs": []
    },
    {
      "cell_type": "markdown",
      "source": [
        "## training"
      ],
      "metadata": {
        "id": "oHXAMZKlHjD_"
      }
    },
    {
      "cell_type": "code",
      "source": [
        "%%time\n",
        "# Train the model\n",
        "with tf.device('GPU'):\n",
        "    history = vae.fit(x_train, epochs=10, batch_size=128, validation_data=(x_test, None))"
      ],
      "metadata": {
        "colab": {
          "base_uri": "https://localhost:8080/"
        },
        "id": "M2cMyQIgBhZg",
        "outputId": "868dc501-317e-4462-bc6d-5c47c1d7a2e7"
      },
      "execution_count": 3,
      "outputs": [
        {
          "output_type": "stream",
          "name": "stdout",
          "text": [
            "Epoch 1/10\n",
            "469/469 [==============================] - 8s 6ms/step - loss: 218.1367 - val_loss: 182.6733\n",
            "Epoch 2/10\n",
            "469/469 [==============================] - 2s 4ms/step - loss: 176.6542 - val_loss: 171.8366\n",
            "Epoch 3/10\n",
            "469/469 [==============================] - 2s 4ms/step - loss: 169.7588 - val_loss: 168.0949\n",
            "Epoch 4/10\n",
            "469/469 [==============================] - 2s 4ms/step - loss: 167.1071 - val_loss: 166.2130\n",
            "Epoch 5/10\n",
            "469/469 [==============================] - 2s 4ms/step - loss: 165.4020 - val_loss: 164.6423\n",
            "Epoch 6/10\n",
            "469/469 [==============================] - 2s 5ms/step - loss: 163.9446 - val_loss: 163.1245\n",
            "Epoch 7/10\n",
            "469/469 [==============================] - 2s 5ms/step - loss: 162.6256 - val_loss: 161.9767\n",
            "Epoch 8/10\n",
            "469/469 [==============================] - 2s 4ms/step - loss: 161.2618 - val_loss: 160.7903\n",
            "Epoch 9/10\n",
            "469/469 [==============================] - 2s 4ms/step - loss: 160.0254 - val_loss: 159.4927\n",
            "Epoch 10/10\n",
            "469/469 [==============================] - 2s 4ms/step - loss: 158.8389 - val_loss: 158.4756\n",
            "CPU times: user 26.9 s, sys: 2.34 s, total: 29.3 s\n",
            "Wall time: 43 s\n"
          ]
        }
      ]
    },
    {
      "cell_type": "code",
      "source": [
        "import matplotlib.pyplot as plt\n",
        "\n",
        "# Plot the VAE loss and validation loss during training\n",
        "plt.plot(history.history['loss'], label='VAE loss')\n",
        "plt.plot(history.history['val_loss'], label='Validation loss')\n",
        "plt.xlabel('Epoch')\n",
        "plt.ylabel('Loss')\n",
        "plt.legend()\n",
        "plt.show()"
      ],
      "metadata": {
        "colab": {
          "base_uri": "https://localhost:8080/",
          "height": 449
        },
        "id": "UJpgAuyBBm6_",
        "outputId": "5fff9416-fafd-4950-bae7-eca28caa7e92"
      },
      "execution_count": 4,
      "outputs": [
        {
          "output_type": "display_data",
          "data": {
            "text/plain": [
              "<Figure size 640x480 with 1 Axes>"
            ],
            "image/png": "[encoded data removed]"
          },
          "metadata": {}
        }
      ]
    },
    {
      "cell_type": "markdown",
      "source": [
        "## image generation"
      ],
      "metadata": {
        "id": "S53xTzcrHmyr"
      }
    },
    {
      "cell_type": "code",
      "source": [
        "import matplotlib.pyplot as plt\n",
        "\n",
        "# Define a function to generate new images\n",
        "def generate_images(model, n=5):\n",
        "    # Sample from the latent space\n",
        "    z_sample = np.random.normal(size=(n, 784))\n",
        "    # Use the decoder to generate new images\n",
        "    x_decoded = model.predict(z_sample)\n",
        "    # Reshape the images to their original dimensions\n",
        "    x_decoded = x_decoded.reshape((n, 28, 28))\n",
        "    # Plot the generated images\n",
        "    fig, axes = plt.subplots(1, n, figsize=(20, 4))\n",
        "    for i in range(n):\n",
        "        axes[i].imshow(x_decoded[i], cmap='gray')\n",
        "        axes[i].axis('off')\n",
        "    plt.show()\n",
        "\n",
        "# Generate 10 new images and visualize them\n",
        "generate_images(vae, n=10)"
      ],
      "metadata": {
        "colab": {
          "base_uri": "https://localhost:8080/",
          "height": 142
        },
        "id": "G0jrrZve_jQu",
        "outputId": "1e9d7124-e2df-4a4d-9918-8547636f623b"
      },
      "execution_count": 5,
      "outputs": [
        {
          "output_type": "stream",
          "name": "stdout",
          "text": [
            "1/1 [==============================] - 0s 110ms/step\n"
          ]
        },
        {
          "output_type": "display_data",
          "data": {
            "text/plain": [
              "<Figure size 2000x400 with 10 Axes>"
            ],
            "image/png": "[encoded data removed]"
          },
          "metadata": {}
        }
      ]
    },
    {
      "cell_type": "markdown",
      "source": [
        "compare to the original images"
      ],
      "metadata": {
        "id": "b6ULJDawHv3j"
      }
    },
    {
      "cell_type": "code",
      "source": [
        "# Reshape the data back into its original shape\n",
        "x_train_images = x_train.reshape(-1, 28, 28)\n",
        "\n",
        "# Plot the first 10 images in x_train\n",
        "for i in range(10):\n",
        "    plt.subplot(2, 5, i+1)\n",
        "    plt.imshow(x_train_images[i], cmap='gray')\n",
        "    plt.axis('off')\n",
        "\n",
        "plt.show()"
      ],
      "metadata": {
        "colab": {
          "base_uri": "https://localhost:8080/",
          "height": 324
        },
        "id": "HL7eSCDuE1hR",
        "outputId": "dbe51dc3-5772-4a1a-a58b-23efd381caf2"
      },
      "execution_count": 6,
      "outputs": [
        {
          "output_type": "display_data",
          "data": {
            "text/plain": [
              "<Figure size 640x480 with 10 Axes>"
            ],
            "image/png": "[encoded data removed]"
          },
          "metadata": {}
        }
      ]
    },
    {
      "cell_type": "markdown",
      "source": [
        "## conclusion"
      ],
      "metadata": {
        "id": "Wyw1IB3cINQ4"
      }
    },
    {
      "cell_type": "markdown",
      "source": [
        "In conclusion, this project implemented a Variational Autoencoder (VAE) in Python using the Keras library. The VAE is trained on the MNIST dataset of handwritten digits and can be used to generate new, similar digits. The implementation includes: define the VAE model, compile it, and fit it to the data.\n",
        "\n",
        "Overall, this project demostrated a solid foundation for understanding and working with VAEs."
      ],
      "metadata": {
        "id": "PQ0FcauyIMnn"
      }
    },
    {
      "cell_type": "markdown",
      "source": [
        "# end"
      ],
      "metadata": {
        "id": "219egQCT_D6R"
      }
    }
  ]
}